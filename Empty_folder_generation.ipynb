{
 "cells": [
  {
   "cell_type": "code",
   "execution_count": 1,
   "metadata": {},
   "outputs": [],
   "source": [
    "import os"
   ]
  },
  {
   "cell_type": "code",
   "execution_count": 5,
   "metadata": {},
   "outputs": [],
   "source": [
    "os.chdir(r'I:\\__data__\\XIMEA_2020-11-13\\6_0.35')\n",
    "for i in range(30):\n",
    "    isExists = os.path.exists(\"layer_\"+str(i+1))\n",
    "    if not isExists:\n",
    "        os.makedirs(\"layer_\"+str(i+1))\n",
    "    #        print(\"%s 目录创建成功\"%(i+1))\n",
    "    else:\n",
    "    #        print(\"%s 目录已经存在\"%(i+1))\n",
    "        continue"
   ]
  },
  {
   "cell_type": "code",
   "execution_count": null,
   "metadata": {},
   "outputs": [],
   "source": []
  }
 ],
 "metadata": {
  "kernelspec": {
   "display_name": "Python 3",
   "language": "python",
   "name": "python3"
  },
  "language_info": {
   "codemirror_mode": {
    "name": "ipython",
    "version": 3
   },
   "file_extension": ".py",
   "mimetype": "text/x-python",
   "name": "python",
   "nbconvert_exporter": "python",
   "pygments_lexer": "ipython3",
   "version": "3.7.7"
  }
 },
 "nbformat": 4,
 "nbformat_minor": 4
}
