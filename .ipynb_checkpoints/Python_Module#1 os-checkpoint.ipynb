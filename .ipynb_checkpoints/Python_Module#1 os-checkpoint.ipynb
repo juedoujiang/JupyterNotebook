{
 "cells": [
  {
   "cell_type": "code",
   "execution_count": 4,
   "metadata": {},
   "outputs": [],
   "source": [
    "import os"
   ]
  },
  {
   "cell_type": "markdown",
   "metadata": {},
   "source": [
    "# 1  os创建目录"
   ]
  },
  {
   "cell_type": "markdown",
   "metadata": {},
   "source": [
    "###  `os.mkdir(path)`"
   ]
  },
  {
   "cell_type": "markdown",
   "metadata": {},
   "source": [
    "这种情况下，上级目录必须存在，最后一个目录不存在则会自动创建。"
   ]
  },
  {
   "cell_type": "code",
   "execution_count": 2,
   "metadata": {},
   "outputs": [],
   "source": [
    "path = \"mkdir\"\n",
    "if not os.path.exists(path):#判断目录路径是否存在\n",
    "    os.mkdir(path)"
   ]
  },
  {
   "cell_type": "markdown",
   "metadata": {},
   "source": [
    "###  `os.makedirs(path)`"
   ]
  },
  {
   "cell_type": "markdown",
   "metadata": {},
   "source": [
    "这种情况下，只要目录路径下有不存在的目录，就会创建该目录，然后递归的创建文件目录。"
   ]
  },
  {
   "cell_type": "code",
   "execution_count": 3,
   "metadata": {},
   "outputs": [],
   "source": [
    "path = \"blankfolder\"\n",
    "if not os.path.exists(path):\n",
    "    os.makedirs(path)"
   ]
  },
  {
   "cell_type": "markdown",
   "metadata": {},
   "source": [
    "###  os批量创建n个指定目录"
   ]
  },
  {
   "cell_type": "markdown",
   "metadata": {},
   "source": [
    "文件名称中只带一个数字"
   ]
  },
  {
   "cell_type": "code",
   "execution_count": 4,
   "metadata": {},
   "outputs": [],
   "source": [
    "path = \"blankfolder/folder_\"\n",
    "for i in range(100):\n",
    "    isExists = os.path.exists(path+str(i+1))\n",
    "    if not isExists:\n",
    "        os.makedirs(path+str(i+1))\n",
    "#        print(\"%s 目录创建成功\"%(i+1))\n",
    "    else:\n",
    "#        print(\"%s 目录已经存在\"%(i+1))\n",
    "        continue"
   ]
  },
  {
   "cell_type": "markdown",
   "metadata": {},
   "source": [
    "文件名称中带多个数字"
   ]
  },
  {
   "cell_type": "code",
   "execution_count": 5,
   "metadata": {},
   "outputs": [],
   "source": [
    "path = \"PreData/Bearing\"\n",
    "for i in range(3):\n",
    "    for j in range(5):\n",
    "        end_path = path + str(i+1) + \"_\" + str(j+1)\n",
    "        isExists = os.path.exists(end_path)\n",
    "        if not isExists:\n",
    "            os.makedirs(end_path)\n",
    "        else:\n",
    "            continue"
   ]
  },
  {
   "cell_type": "markdown",
   "metadata": {},
   "source": [
    "文件有多个上级目录"
   ]
  },
  {
   "cell_type": "code",
   "execution_count": 15,
   "metadata": {},
   "outputs": [],
   "source": [
    "Path_List = ['35Hz12kN','37.5Hz11kN','40Hz10kN']\n",
    "for i in range(3):\n",
    "    path = 'PreData' + '/' + Path_List[i]\n",
    "#    print(path)\n",
    "    isExists = os.path.exists(path)\n",
    "    if not isExists:\n",
    "        os.makedirs(path)\n",
    "    for j in range(5):\n",
    "        end_path = path + '/' + 'Bearing' + str(i+1) + '_' + str(j+1)\n",
    "#        print(end_path)\n",
    "        isExists = os.path.exists(end_path)\n",
    "        if not isExists:\n",
    "            os.makedirs(end_path)\n",
    "        else:\n",
    "            continue"
   ]
  },
  {
   "cell_type": "markdown",
   "metadata": {},
   "source": [
    "# 2  `os.listdir(path)`"
   ]
  },
  {
   "cell_type": "markdown",
   "metadata": {},
   "source": [
    "返回一个列表，其中包含由`path`给出的目录中条目的名称。该列表按任意顺序排列，并且不包含特殊条目'.' 和'..'，即使它们存在于目录中。"
   ]
  },
  {
   "cell_type": "code",
   "execution_count": 6,
   "metadata": {
    "scrolled": true
   },
   "outputs": [],
   "source": [
    "path = \"blankfolder\"\n",
    "dirs = os.listdir(path)\n",
    "#for folder in dirs:#输出所有文件文件和文件夹\n",
    "#    print(folder)"
   ]
  },
  {
   "cell_type": "markdown",
   "metadata": {},
   "source": [
    "# 3  目录下文件的排序—list排序"
   ]
  },
  {
   "cell_type": "markdown",
   "metadata": {},
   "source": [
    "`sort(*,key=None,reverse=False)`  \n",
    "*key* 指定一个带有参数的函数，用于从每个列表元素中提取比较键，默认值`None`表示直接对列表项排序不计算一个单独的键值； *reverse* 若为`True`，则反向排序  "
   ]
  },
  {
   "cell_type": "markdown",
   "metadata": {},
   "source": [
    "*key* 函数可通过`lamdba`表达式来创建， **list** 会根据表达式的`expression`进行排序"
   ]
  },
  {
   "cell_type": "markdown",
   "metadata": {},
   "source": [
    "### 按照文件中数字大小进行排序"
   ]
  },
  {
   "cell_type": "markdown",
   "metadata": {},
   "source": [
    "`str.split(sep=None,maxsplit=-1)`  \n",
    "返回字符串内单词组成的列表，使用 *sep* 作为分割字符串，若 *sep* 为`None`则按照空格进行拆分。若给出 *maxsplit* ,则最多进行 *maxsplit* 次拆分"
   ]
  },
  {
   "cell_type": "code",
   "execution_count": 19,
   "metadata": {},
   "outputs": [],
   "source": [
    "dirs.sort(key=lambda x:int(x.split('_')[1]))\n",
    "#for folder in dirs:\n",
    "#    print(type(int(folder.split('_')[1])))\n",
    "#    print(folder.split('_')[1])\n",
    "#    print(folder)"
   ]
  },
  {
   "cell_type": "markdown",
   "metadata": {},
   "source": [
    "### 按文件名称字符串小写排序"
   ]
  },
  {
   "cell_type": "code",
   "execution_count": 37,
   "metadata": {},
   "outputs": [],
   "source": [
    "dirs.sort(key=lambda x:x.lower())\n",
    "#for folder in dirs:\n",
    "#    print(folder)"
   ]
  },
  {
   "cell_type": "markdown",
   "metadata": {},
   "source": [
    "### 按创建时间精确到秒排序\n",
    "+ `os.path.getatime(path)`:返回`path`的最后访问时间\n",
    "+ `os.path.getmtime(path)`:返回`path`的最后修改时间\n",
    "+ `os.path.getctime(path)`:返回`path`在系统中的ctime，Windows中，为`path`的创建时间"
   ]
  },
  {
   "cell_type": "code",
   "execution_count": 46,
   "metadata": {},
   "outputs": [],
   "source": [
    "dirs.sort(key=lambda x:os.path.getatime(os.path.join(path,x)))\n",
    "#print(os.path.join(path,\"folder_1\"))\n",
    "#for folder in dirs:\n",
    "#    print(folder)"
   ]
  },
  {
   "cell_type": "code",
   "execution_count": 46,
   "metadata": {},
   "outputs": [],
   "source": [
    "dirs.sort(key=lambda x:os.path.getmtime(os.path.join(path,x)))\n",
    "#for folder in dirs:\n",
    "#    print(folder)"
   ]
  },
  {
   "cell_type": "code",
   "execution_count": 46,
   "metadata": {},
   "outputs": [],
   "source": [
    "dirs.sort(key=lambda x:os.path.getctime(os.path.join(path,x)))\n",
    "#for folder in dirs:\n",
    "#    print(folder)"
   ]
  },
  {
   "cell_type": "markdown",
   "metadata": {},
   "source": [
    "### 按创建时间精确到纳秒排序"
   ]
  },
  {
   "cell_type": "markdown",
   "metadata": {},
   "source": [
    "使用`os.stat(path)`的返回值`statinfo`的三个属性获取文件的创建时间等信息  \n",
    "+ `st_atime_ns`:返回`statinfo`的最后访问时间(纳秒)\n",
    "+ `st_mtime_ns`:返回`statinfo`的最后修改时间(纳秒)\n",
    "+ `st_ctime_ns`:返回`statinfo`在系统中的ctime，Windows中，为`path`的创建时间(纳秒)"
   ]
  },
  {
   "cell_type": "code",
   "execution_count": 9,
   "metadata": {},
   "outputs": [],
   "source": [
    "dirs.sort(key=lambda x:os.stat(os.path.join(path,x)).st_ctime_ns)\n",
    "#for folder in dirs:\n",
    "#    print(folder)"
   ]
  },
  {
   "cell_type": "markdown",
   "metadata": {},
   "source": [
    "**注:**在使用`os.path.getctime(path)`,`os.path.getmtime(path)`,`os.path.getatime(path)`或`os.stat(path)`时所用路径必须为相对路径全称，故需要用`os.path.join(path,*paths)`来拼接路径  "
   ]
  },
  {
   "cell_type": "markdown",
   "metadata": {},
   "source": [
    "### 按文件名称中某几位特定的键值进行排序"
   ]
  },
  {
   "cell_type": "code",
   "execution_count": 59,
   "metadata": {},
   "outputs": [
    {
     "data": {
      "text/plain": [
       "'for folder in dirs:\\n    print(folder[:-i])\\n    print(type(folder[:-i]))\\n    print(folder)'"
      ]
     },
     "execution_count": 59,
     "metadata": {},
     "output_type": "execute_result"
    }
   ],
   "source": [
    "i = 4\n",
    "dirs.sort(key=lambda x:x[:-i])\n",
    "\"\"\"\n",
    "for folder in dirs:\n",
    "    print(folder[:-i])\n",
    "    print(type(folder[:-i]))\n",
    "    print(folder)\n",
    "\"\"\""
   ]
  },
  {
   "cell_type": "markdown",
   "metadata": {},
   "source": [
    "### 引入`re`按照文件名称排序"
   ]
  },
  {
   "cell_type": "markdown",
   "metadata": {},
   "source": [
    "+ `re.compile(pattern,flags=0)`  "
   ]
  },
  {
   "cell_type": "markdown",
   "metadata": {},
   "source": [
    " 将正则表达式的样式编译为一个正则表达式对象（正则对象），可以用于匹配  \n",
    " 序列  \n",
    " ```\n",
    " prog = re.compile(pattern)\n",
    " result = prog.match(string)\n",
    " ```\n",
    " 等价于\n",
    " ```\n",
    " result = re.match(pattern, string)\n",
    " ```\n",
    " 如果需要多次使用这个正则表达式 *pattern* 话，使用`re.compile()`和保存这个这个正则对象以便复用，可以让程序更加高效"
   ]
  },
  {
   "cell_type": "markdown",
   "metadata": {},
   "source": [
    "+ `re.split(pattern,string,maxsplit=0,flags=0)`  "
   ]
  },
  {
   "cell_type": "markdown",
   "metadata": {},
   "source": [
    "用 *pattern* 分开 *string* 。 如果在 *pattern* 中捕获到括号，那么所有的组里的文字也会包含在列表里。如果 *maxsplit* 非零， 最多进行 *maxsplit* 次分隔， 剩下的字符全部返回到列表的最后一个元素。  "
   ]
  },
  {
   "cell_type": "markdown",
   "metadata": {},
   "source": [
    "+ `pattern = r'(\\d+)`  \n",
    "  + `+`\n",
    "    + 对它前面的正则式匹配1到任意次重复。 `ab+` 会匹配 `'a'` 后面跟随1个以上到任意个 `'b'`，它不会匹配 `'a'`。\n",
    "  + `\\d`\n",
    "    + 对于 Unicode (str) 样式：匹配任何Unicode十进制数（就是在Unicode字符目录`[Nd]`里的字符）。这包括了`[0-9]`，和很多其他的数字字符。如果设置了ASCII标志，就只匹配`[0-9]`。\n",
    "    + 对于8位(bytes)样式：\n",
    "      匹配任何十进制数，就是`[0-9]`。"
   ]
  },
  {
   "cell_type": "markdown",
   "metadata": {},
   "source": [
    "+ `s[i:j:k]`\n",
    "\n",
    "s从i到j步长为k的切片"
   ]
  },
  {
   "cell_type": "markdown",
   "metadata": {},
   "source": [
    "+ `map(function, iterable,...)`"
   ]
  },
  {
   "cell_type": "markdown",
   "metadata": {},
   "source": [
    "对每个iterable进行function运算，可以使用lambda匿名函数"
   ]
  },
  {
   "cell_type": "code",
   "execution_count": 61,
   "metadata": {},
   "outputs": [],
   "source": [
    "import re\n",
    "#自定义sort_key函数\n",
    "def sort_key(s):\n",
    "    #sort_strings_with_embedded_numbers\n",
    "    re_digits = re.compile(r'(\\d+)')\n",
    "    pieces = re_digits.split(s)  # 切成数字与非数字\n",
    "#    print(pieces)\n",
    "#    print(pieces[1::2])\n",
    "    pieces[1::2] = map(int, pieces[1::2])  # 将数字部分转成整数\n",
    "    return pieces"
   ]
  },
  {
   "cell_type": "code",
   "execution_count": 62,
   "metadata": {
    "scrolled": true
   },
   "outputs": [],
   "source": [
    "path = \"PreData\"\n",
    "dirss = os.listdir(path)\n",
    "dirss.sort(key=sort_key)\n",
    "#for folder in dirss:\n",
    "#    print(folder)"
   ]
  }
 ],
 "metadata": {
  "kernelspec": {
   "display_name": "Python 3",
   "language": "python",
   "name": "python3"
  },
  "language_info": {
   "codemirror_mode": {
    "name": "ipython",
    "version": 3
   },
   "file_extension": ".py",
   "mimetype": "text/x-python",
   "name": "python",
   "nbconvert_exporter": "python",
   "pygments_lexer": "ipython3",
   "version": "3.7.7"
  }
 },
 "nbformat": 4,
 "nbformat_minor": 2
}
