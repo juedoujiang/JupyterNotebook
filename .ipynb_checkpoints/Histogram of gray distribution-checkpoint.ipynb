{
 "cells": [
  {
   "cell_type": "code",
   "execution_count": null,
   "metadata": {},
   "outputs": [],
   "source": [
    "import cv2 as cv\n",
    "import matplotlib.pyplot as plt\n",
    "\n",
    "img = cv.imread(\"E:/10shuju/70zhongzhuangtai/1200-5_files/1119.tif\")\n",
    "img_gray = cv.cvtColor(img, cv.COLOR_RGB2GRAY)\n",
    "\n",
    "grayDict = {}\n",
    "for key in range(256):\n",
    "    grayDict[key] = 0\n",
    "for i in range(img_gray.shape[0]):\n",
    "    for j in range(img_gray.shape[1]):\n",
    "        grayDict[img_gray[i][j]] += 1\n",
    "\n",
    "plt.figure(dpi=300)\n",
    "plt.xticks(range(0,255,25))\n",
    "plt.bar(list(grayDict.keys()), list(grayDict.values()))\n",
    "plt.savefig(\"gi.png\")\n",
    "plt.show()"
   ]
  }
 ],
 "metadata": {
  "kernelspec": {
   "display_name": "Python 3",
   "language": "python",
   "name": "python3"
  },
  "language_info": {
   "codemirror_mode": {
    "name": "ipython",
    "version": 3
   },
   "file_extension": ".py",
   "mimetype": "text/x-python",
   "name": "python",
   "nbconvert_exporter": "python",
   "pygments_lexer": "ipython3",
   "version": "3.7.7"
  }
 },
 "nbformat": 4,
 "nbformat_minor": 4
}
